{
 "cells": [
  {
   "cell_type": "markdown",
   "id": "a8f31d93",
   "metadata": {},
   "source": [
    "# Talari Shreya\n",
    "220978324\n",
    "Roll.No 50\n",
    "Section_A_Batch2\n",
    "Week_1_"
   ]
  },
  {
   "cell_type": "markdown",
   "id": "348345e3",
   "metadata": {},
   "source": [
    "# Exercise1 Introduction to pandas"
   ]
  },
  {
   "cell_type": "markdown",
   "id": "ecc323f1",
   "metadata": {},
   "source": [
    "# Q-1 Data frame"
   ]
  },
  {
   "cell_type": "code",
   "execution_count": 1,
   "id": "b3088697",
   "metadata": {},
   "outputs": [
    {
     "name": "stdout",
     "output_type": "stream",
     "text": [
      "   Roll Number     Name  Gender  Marks1  Marks2  Marks3\n",
      "0          101    Alice  Female      85      89      86\n",
      "1          102      Bob    Male      72      67      76\n",
      "2          103  Charlie  Female      64      38      75\n",
      "3          104    David    Male      89      69      90\n",
      "4          105      Eve  Female      90      90      56\n",
      "5          106    Pranx    Male      45      56      80\n",
      "6          107    Grace  Female      44      90      78\n",
      "7          108     Alex    Male      78      50      69\n",
      "8          109      Ivy  Female      69      47      80\n",
      "9          110     John    Male      56      82      78\n"
     ]
    }
   ],
   "source": [
    "import pandas as pd\n",
    "data = {\n",
    "    'Roll Number' : [101, 102, 103, 104, 105, 106, 107, 108, 109, 110],\n",
    "    'Name' : ['Alice', 'Bob', \"Charlie\", 'David', 'Eve', 'Pranx', 'Grace', 'Alex', 'Ivy', 'John'],\n",
    "    'Gender' : ['Female', 'Male', 'Female', 'Male', 'Female', 'Male', 'Female', 'Male', 'Female', 'Male'],\n",
    "    'Marks1' : [85, 72, 64, 89, 90, 45, 44, 78, 69, 56],\n",
    "    'Marks2' : [89, 67, 38, 69, 90, 56, 90, 50, 47, 82],\n",
    "    'Marks3' : [86, 76, 75, 90, 56, 80, 78, 69, 80, 78]\n",
    "}\n",
    "df = pd.DataFrame(data)\n",
    "print(df)"
   ]
  },
  {
   "cell_type": "markdown",
   "id": "9d68da7b",
   "metadata": {},
   "source": [
    "# Q-2.create a new column with total marks"
   ]
  },
  {
   "cell_type": "code",
   "execution_count": 2,
   "id": "674c75b3",
   "metadata": {},
   "outputs": [
    {
     "name": "stdout",
     "output_type": "stream",
     "text": [
      "   Roll Number     Name  Gender  Marks1  Marks2  Marks3  Total Marks\n",
      "0          101    Alice  Female      85      89      86          260\n",
      "1          102      Bob    Male      72      67      76          215\n",
      "2          103  Charlie  Female      64      38      75          177\n",
      "3          104    David    Male      89      69      90          248\n",
      "4          105      Eve  Female      90      90      56          236\n",
      "5          106    Pranx    Male      45      56      80          181\n",
      "6          107    Grace  Female      44      90      78          212\n",
      "7          108     Alex    Male      78      50      69          197\n",
      "8          109      Ivy  Female      69      47      80          196\n",
      "9          110     John    Male      56      82      78          216\n"
     ]
    }
   ],
   "source": [
    "import pandas as pd\n",
    "data = {\n",
    "    'Roll Number' : [101, 102, 103, 104, 105, 106, 107, 108, 109, 110],\n",
    "    'Name' : ['Alice', 'Bob', \"Charlie\", 'David', 'Eve', 'Pranx', 'Grace', 'Alex', 'Ivy', 'John'],\n",
    "    'Gender' : ['Female', 'Male', 'Female', 'Male', 'Female', 'Male', 'Female', 'Male', 'Female', 'Male'],\n",
    "    'Marks1' : [85, 72, 64, 89, 90, 45, 44, 78, 69, 56],\n",
    "    'Marks2' : [89, 67, 38, 69, 90, 56, 90, 50, 47, 82],\n",
    "    'Marks3' : [86, 76, 75, 90, 56, 80, 78, 69, 80, 78]\n",
    "}\n",
    "df = pd.DataFrame(data)\n",
    "#Calculate the total marks for each student\n",
    "df['Total Marks'] = df['Marks1'] + df['Marks2'] + df['Marks3']\n",
    "print(df)"
   ]
  },
  {
   "cell_type": "markdown",
   "id": "c1fc2a5c",
   "metadata": {},
   "source": [
    "# Q-3.find the lower marks in marks1"
   ]
  },
  {
   "cell_type": "code",
   "execution_count": 3,
   "id": "6e191fb4",
   "metadata": {},
   "outputs": [
    {
     "name": "stdout",
     "output_type": "stream",
     "text": [
      "Lowest marks in marks1: 44\n"
     ]
    }
   ],
   "source": [
    "import pandas as pd\n",
    "data = {\n",
    "    'Roll Number' : [101, 102, 103, 104, 105, 106, 107, 108, 109, 110],\n",
    "    'Name' : ['Alice', 'Bob', \"Charlie\", 'David', 'Eve', 'Pranx', 'Grace', 'Alex', 'Ivy', 'John'],\n",
    "    'Gender' : ['Female', 'Male', 'Female', 'Male', 'Female', 'Male', 'Female', 'Male', 'Female', 'Male'],\n",
    "    'Marks1' : [85, 72, 64, 89, 90, 45, 44, 78, 69, 56],\n",
    "    'Marks2' : [89, 67, 38, 69, 90, 56, 90, 50, 47, 82],\n",
    "    'Marks3' : [86, 76, 75, 90, 56, 80, 78, 69, 80, 78]\n",
    "}\n",
    "df = pd.DataFrame(data)\n",
    "#Find the lowest marks in marks1\n",
    "lowest_marks_marks1 = df['Marks1'].min()\n",
    "print(\"Lowest marks in marks1:\",lowest_marks_marks1)"
   ]
  },
  {
   "cell_type": "markdown",
   "id": "8e38440c",
   "metadata": {},
   "source": [
    "# Q-4.find highest marks in marks2"
   ]
  },
  {
   "cell_type": "code",
   "execution_count": 4,
   "id": "9039c75b",
   "metadata": {},
   "outputs": [
    {
     "name": "stdout",
     "output_type": "stream",
     "text": [
      "Highest marks in marks2: 90\n"
     ]
    }
   ],
   "source": [
    "import pandas as pd\n",
    "data = {\n",
    "    'Roll Number' : [101, 102, 103, 104, 105, 106, 107, 108, 109, 110],\n",
    "    'Name' : ['Alice', 'Bob', \"Charlie\", 'David', 'Eve', 'Pranx', 'Grace', 'Alex', 'Ivy', 'John'],\n",
    "    'Gender' : ['Female', 'Male', 'Female', 'Male', 'Female', 'Male', 'Female', 'Male', 'Female', 'Male'],\n",
    "    'Marks1' : [85, 72, 64, 89, 90, 45, 44, 78, 69, 56],\n",
    "    'Marks2' : [89, 67, 38, 69, 90, 56, 90, 50, 47, 82],\n",
    "    'Marks3' : [86, 76, 75, 90, 56, 80, 78, 69, 80, 78]\n",
    "}\n",
    "df = pd.DataFrame(data)\n",
    "#Find the highest marks in marks2\n",
    "highest_marks_marks2 = df['Marks2'].max()\n",
    "print(\"Highest marks in marks2:\",highest_marks_marks2)"
   ]
  },
  {
   "cell_type": "markdown",
   "id": "0405f8ca",
   "metadata": {},
   "source": [
    "# Q-5.avg marks in marks3"
   ]
  },
  {
   "cell_type": "code",
   "execution_count": 5,
   "id": "1d74e571",
   "metadata": {},
   "outputs": [
    {
     "name": "stdout",
     "output_type": "stream",
     "text": [
      "Average marks in marks3: 76.8\n"
     ]
    }
   ],
   "source": [
    "import pandas as pd\n",
    "data = {\n",
    "    'Roll Number' : [101, 102, 103, 104, 105, 106, 107, 108, 109, 110],\n",
    "    'Name' : ['Alice', 'Bob', \"Charlie\", 'David', 'Eve', 'Pranx', 'Grace', 'Alex', 'Ivy', 'John'],\n",
    "    'Gender' : ['Female', 'Male', 'Female', 'Male', 'Female', 'Male', 'Female', 'Male', 'Female', 'Male'],\n",
    "    'Marks1' : [85, 72, 64, 89, 90, 45, 44, 78, 69, 56],\n",
    "    'Marks2' : [89, 67, 38, 69, 90, 56, 90, 50, 47, 82],\n",
    "    'Marks3' : [86, 76, 75, 90, 56, 80, 78, 69, 80, 78]\n",
    "}\n",
    "df = pd.DataFrame(data)\n",
    "#Find the avg marks in marks3\n",
    "average_marks_marks3 = df['Marks3'].mean()\n",
    "print(\"Average marks in marks3:\",average_marks_marks3)"
   ]
  },
  {
   "cell_type": "markdown",
   "id": "999618b1",
   "metadata": {},
   "source": [
    "# Q-6.student name with highest average"
   ]
  },
  {
   "cell_type": "code",
   "execution_count": 6,
   "id": "502a94dc",
   "metadata": {},
   "outputs": [
    {
     "name": "stdout",
     "output_type": "stream",
     "text": [
      "Student with highest average marks: Alice\n"
     ]
    }
   ],
   "source": [
    "import pandas as pd\n",
    "data = {\n",
    "    'Roll Number' : [101, 102, 103, 104, 105, 106, 107, 108, 109, 110],\n",
    "    'Name' : ['Alice', 'Bob', \"Charlie\", 'David', 'Eve', 'Pranx', 'Grace', 'Alex', 'Ivy', 'John'],\n",
    "    'Gender' : ['Female', 'Male', 'Female', 'Male', 'Female', 'Male', 'Female', 'Male', 'Female', 'Male'],\n",
    "    'Marks1' : [85, 72, 64, 89, 90, 45, 44, 78, 69, 56],\n",
    "    'Marks2' : [89, 67, 38, 69, 90, 56, 90, 50, 47, 82],\n",
    "    'Marks3' : [86, 76, 75, 90, 56, 80, 78, 69, 80, 78]\n",
    "}\n",
    "df = pd.DataFrame(data)\n",
    "#Calculate the average marks for each student\n",
    "df['Average Marks'] = df[['Marks1', 'Marks2', 'Marks3']].mean(axis=1)\n",
    "\n",
    "#Find the student with highest average marks\n",
    "student_with_highest_avg = df[df['Average Marks'] == df['Average Marks'].max()]['Name'].values[0]\n",
    "\n",
    "print(\"Student with highest average marks:\",student_with_highest_avg)"
   ]
  },
  {
   "cell_type": "markdown",
   "id": "b1c252e6",
   "metadata": {},
   "source": [
    "# Q-7.how many failed in marks2"
   ]
  },
  {
   "cell_type": "code",
   "execution_count": 22,
   "id": "8d3f9f88",
   "metadata": {},
   "outputs": [
    {
     "name": "stdout",
     "output_type": "stream",
     "text": [
      "Number of students who failed in Marks2: 1\n"
     ]
    }
   ],
   "source": [
    "import pandas as pd\n",
    "data = {\n",
    "    'Roll Number' : [101, 102, 103, 104, 105, 106, 107, 108, 109, 110],\n",
    "    'Name' : ['Alice', 'Bob', \"Charlie\", 'David', 'Eve', 'Pranx', 'Grace', 'Alex', 'Ivy', 'John'],\n",
    "    'Gender' : ['Female', 'Male', 'Female', 'Male', 'Female', 'Male', 'Female', 'Male', 'Female', 'Male'],\n",
    "    'Marks1' : [85, 72, 64, 89, 90, 45, 44, 78, 69, 56],\n",
    "    'Marks2' : [89, 67, 38, 69, 90, 56, 90, 50, 47, 82],\n",
    "    'Marks3' : [86, 76, 75, 90, 56, 80, 78, 69, 80, 78]\n",
    "}\n",
    "df = pd.DataFrame(data)\n",
    "passing_threshold = 40\n",
    "failed_students_marks2 = df[df['Marks2'] < passing_threshold]\n",
    "\n",
    "num_failed_students_marks2 = failed_students_marks2.shape[0]\n",
    "\n",
    "print(\"Number of students who failed in Marks2:\",num_failed_students_marks2)"
   ]
  }
 ],
 "metadata": {
  "kernelspec": {
   "display_name": "Python 3 (ipykernel)",
   "language": "python",
   "name": "python3"
  },
  "language_info": {
   "codemirror_mode": {
    "name": "ipython",
    "version": 3
   },
   "file_extension": ".py",
   "mimetype": "text/x-python",
   "name": "python",
   "nbconvert_exporter": "python",
   "pygments_lexer": "ipython3",
   "version": "3.9.13"
  }
 },
 "nbformat": 4,
 "nbformat_minor": 5
}
