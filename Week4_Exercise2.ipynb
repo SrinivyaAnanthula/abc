{
 "cells": [
  {
   "cell_type": "markdown",
   "id": "7004530e",
   "metadata": {},
   "source": [
    "# Talari Shreya\n",
    "##220978324  \n",
    "Roll.No:50\n",
    "Section_A_Batch2\n",
    "##week_4_Deliveries_Matches"
   ]
  },
  {
   "cell_type": "markdown",
   "id": "5eefc334",
   "metadata": {},
   "source": [
    "# EXERCISE 2 – Descriptive Analytics and Visualization using Matplotlib, Seaborn:\n",
    "(Cross tabulation, distributions, Multi-variate analysis, Various Plots)"
   ]
  },
  {
   "cell_type": "code",
   "execution_count": 2,
   "id": "7aa2027e",
   "metadata": {},
   "outputs": [
    {
     "name": "stdout",
     "output_type": "stream",
     "text": [
      "        id  season           city        date                        team1  \\\n",
      "0        1    2017      Hyderabad  2017-04-05          Sunrisers Hyderabad   \n",
      "1        2    2017           Pune  2017-04-06               Mumbai Indians   \n",
      "2        3    2017         Rajkot  2017-04-07                Gujarat Lions   \n",
      "3        4    2017         Indore  2017-04-08       Rising Pune Supergiant   \n",
      "4        5    2017      Bangalore  2017-04-08  Royal Challengers Bangalore   \n",
      "..     ...     ...            ...         ...                          ...   \n",
      "751  11347    2019         Mumbai    05/05/19        Kolkata Knight Riders   \n",
      "752  11412    2019        Chennai    07/05/19          Chennai Super Kings   \n",
      "753  11413    2019  Visakhapatnam    08/05/19          Sunrisers Hyderabad   \n",
      "754  11414    2019  Visakhapatnam    10/05/19               Delhi Capitals   \n",
      "755  11415    2019      Hyderabad    12/05/19               Mumbai Indians   \n",
      "\n",
      "                           team2                  toss_winner toss_decision  \\\n",
      "0    Royal Challengers Bangalore  Royal Challengers Bangalore         field   \n",
      "1         Rising Pune Supergiant       Rising Pune Supergiant         field   \n",
      "2          Kolkata Knight Riders        Kolkata Knight Riders         field   \n",
      "3                Kings XI Punjab              Kings XI Punjab         field   \n",
      "4               Delhi Daredevils  Royal Challengers Bangalore           bat   \n",
      "..                           ...                          ...           ...   \n",
      "751               Mumbai Indians               Mumbai Indians         field   \n",
      "752               Mumbai Indians          Chennai Super Kings           bat   \n",
      "753               Delhi Capitals               Delhi Capitals         field   \n",
      "754          Chennai Super Kings          Chennai Super Kings         field   \n",
      "755          Chennai Super Kings               Mumbai Indians           bat   \n",
      "\n",
      "     result  dl_applied                       winner  win_by_runs  \\\n",
      "0    normal           0          Sunrisers Hyderabad           35   \n",
      "1    normal           0       Rising Pune Supergiant            0   \n",
      "2    normal           0        Kolkata Knight Riders            0   \n",
      "3    normal           0              Kings XI Punjab            0   \n",
      "4    normal           0  Royal Challengers Bangalore           15   \n",
      "..      ...         ...                          ...          ...   \n",
      "751  normal           0               Mumbai Indians            0   \n",
      "752  normal           0               Mumbai Indians            0   \n",
      "753  normal           0               Delhi Capitals            0   \n",
      "754  normal           0          Chennai Super Kings            0   \n",
      "755  normal           0               Mumbai Indians            1   \n",
      "\n",
      "     win_by_wickets player_of_match  \\\n",
      "0                 0    Yuvraj Singh   \n",
      "1                 7       SPD Smith   \n",
      "2                10         CA Lynn   \n",
      "3                 6      GJ Maxwell   \n",
      "4                 0       KM Jadhav   \n",
      "..              ...             ...   \n",
      "751               9       HH Pandya   \n",
      "752               6        AS Yadav   \n",
      "753               2         RR Pant   \n",
      "754               6    F du Plessis   \n",
      "755               0       JJ Bumrah   \n",
      "\n",
      "                                         venue         umpire1  \\\n",
      "0    Rajiv Gandhi International Stadium, Uppal     AY Dandekar   \n",
      "1      Maharashtra Cricket Association Stadium  A Nand Kishore   \n",
      "2       Saurashtra Cricket Association Stadium     Nitin Menon   \n",
      "3                       Holkar Cricket Stadium    AK Chaudhary   \n",
      "4                        M Chinnaswamy Stadium             NaN   \n",
      "..                                         ...             ...   \n",
      "751                           Wankhede Stadium   Nanda Kishore   \n",
      "752                  M. A. Chidambaram Stadium     Nigel Llong   \n",
      "753                           ACA-VDCA Stadium             NaN   \n",
      "754                           ACA-VDCA Stadium   Sundaram Ravi   \n",
      "755         Rajiv Gandhi Intl. Cricket Stadium     Nitin Menon   \n",
      "\n",
      "            umpire2                  umpire3  \n",
      "0          NJ Llong                      NaN  \n",
      "1            S Ravi                      NaN  \n",
      "2         CK Nandan                      NaN  \n",
      "3     C Shamshuddin                      NaN  \n",
      "4               NaN                      NaN  \n",
      "..              ...                      ...  \n",
      "751        O Nandan                   S Ravi  \n",
      "752     Nitin Menon                Ian Gould  \n",
      "753             NaN                      NaN  \n",
      "754  Bruce Oxenford  Chettithody Shamshuddin  \n",
      "755       Ian Gould              Nigel Llong  \n",
      "\n",
      "[756 rows x 18 columns]\n"
     ]
    }
   ],
   "source": [
    "import pandas as pd\n",
    "from matplotlib import pyplot as plt\n",
    "import numpy as np\n",
    "import seaborn as sns\n",
    "x1=pd.read_csv(\"matches.csv\")\n",
    "x2=pd.read_csv(\"deliveries.csv\")\n",
    "print(x1)"
   ]
  },
  {
   "cell_type": "markdown",
   "id": "9bf783e5",
   "metadata": {},
   "source": [
    "# Q-1 Count the total number of matches conducted in year 2008"
   ]
  },
  {
   "cell_type": "code",
   "execution_count": 51,
   "id": "767f3b5a",
   "metadata": {},
   "outputs": [
    {
     "name": "stdout",
     "output_type": "stream",
     "text": [
      "The total number of matches are:\n"
     ]
    },
    {
     "data": {
      "text/plain": [
       "58"
      ]
     },
     "execution_count": 51,
     "metadata": {},
     "output_type": "execute_result"
    }
   ],
   "source": [
    "print(\"The total number of matches are:\")\n",
    "x1[\"season\"].value_counts()[2008]"
   ]
  },
  {
   "cell_type": "markdown",
   "id": "076ccc4b",
   "metadata": {},
   "source": [
    "# Q-2 Find the city name where maximum and minimum number of matches conducted"
   ]
  },
  {
   "cell_type": "code",
   "execution_count": 49,
   "id": "86aad0f1",
   "metadata": {},
   "outputs": [
    {
     "data": {
      "text/plain": [
       "Mumbai    101\n",
       "Name: city, dtype: int64"
      ]
     },
     "execution_count": 49,
     "metadata": {},
     "output_type": "execute_result"
    }
   ],
   "source": [
    "x1[\"city\"].value_counts().nlargest(1)"
   ]
  },
  {
   "cell_type": "code",
   "execution_count": 50,
   "id": "c9edb61b",
   "metadata": {},
   "outputs": [
    {
     "data": {
      "text/plain": [
       "Bloemfontein    2\n",
       "Name: city, dtype: int64"
      ]
     },
     "execution_count": 50,
     "metadata": {},
     "output_type": "execute_result"
    }
   ],
   "source": [
    "x1[\"city\"].value_counts().nsmallest(1)"
   ]
  },
  {
   "cell_type": "markdown",
   "id": "d39721fd",
   "metadata": {},
   "source": [
    "# Q-3 Find total count of matches city wise."
   ]
  },
  {
   "cell_type": "code",
   "execution_count": 8,
   "id": "87dd8f86",
   "metadata": {},
   "outputs": [
    {
     "data": {
      "text/plain": [
       "Mumbai            101\n",
       "Kolkata            77\n",
       "Delhi              74\n",
       "Bangalore          66\n",
       "Hyderabad          64\n",
       "Chennai            57\n",
       "Jaipur             47\n",
       "Chandigarh         46\n",
       "Pune               38\n",
       "Durban             15\n",
       "Bengaluru          14\n",
       "Visakhapatnam      13\n",
       "Centurion          12\n",
       "Ahmedabad          12\n",
       "Rajkot             10\n",
       "Mohali             10\n",
       "Indore              9\n",
       "Dharamsala          9\n",
       "Johannesburg        8\n",
       "Cuttack             7\n",
       "Ranchi              7\n",
       "Port Elizabeth      7\n",
       "Cape Town           7\n",
       "Abu Dhabi           7\n",
       "Sharjah             6\n",
       "Raipur              6\n",
       "Kochi               5\n",
       "Kanpur              4\n",
       "Nagpur              3\n",
       "Kimberley           3\n",
       "East London         3\n",
       "Bloemfontein        2\n",
       "Name: city, dtype: int64"
      ]
     },
     "execution_count": 8,
     "metadata": {},
     "output_type": "execute_result"
    }
   ],
   "source": [
    "x1[\"city\"].value_counts()"
   ]
  },
  {
   "cell_type": "markdown",
   "id": "1c4fabbf",
   "metadata": {},
   "source": [
    "# Q-4 Find the Team which is maximum and minimum toss winner."
   ]
  },
  {
   "cell_type": "code",
   "execution_count": 46,
   "id": "21404cdb",
   "metadata": {},
   "outputs": [
    {
     "data": {
      "text/plain": [
       "Mumbai Indians    98\n",
       "Name: toss_winner, dtype: int64"
      ]
     },
     "execution_count": 46,
     "metadata": {},
     "output_type": "execute_result"
    }
   ],
   "source": [
    "x1[\"toss_winner\"].value_counts().nlargest(1)"
   ]
  },
  {
   "cell_type": "code",
   "execution_count": 47,
   "id": "90adf675",
   "metadata": {},
   "outputs": [
    {
     "data": {
      "text/plain": [
       "Rising Pune Supergiant    6\n",
       "Name: toss_winner, dtype: int64"
      ]
     },
     "execution_count": 47,
     "metadata": {},
     "output_type": "execute_result"
    }
   ],
   "source": [
    "x1[\"toss_winner\"].value_counts().nsmallest(1)"
   ]
  },
  {
   "cell_type": "markdown",
   "id": "66360eda",
   "metadata": {},
   "source": [
    "# Q-5 Check the toss decision that the team has taken"
   ]
  },
  {
   "cell_type": "code",
   "execution_count": 45,
   "id": "522223bb",
   "metadata": {},
   "outputs": [
    {
     "data": {
      "text/html": [
       "<div>\n",
       "<style scoped>\n",
       "    .dataframe tbody tr th:only-of-type {\n",
       "        vertical-align: middle;\n",
       "    }\n",
       "\n",
       "    .dataframe tbody tr th {\n",
       "        vertical-align: top;\n",
       "    }\n",
       "\n",
       "    .dataframe thead th {\n",
       "        text-align: right;\n",
       "    }\n",
       "</style>\n",
       "<table border=\"1\" class=\"dataframe\">\n",
       "  <thead>\n",
       "    <tr style=\"text-align: right;\">\n",
       "      <th>toss_winner</th>\n",
       "      <th>Chennai Super Kings</th>\n",
       "      <th>Deccan Chargers</th>\n",
       "      <th>Delhi Capitals</th>\n",
       "      <th>Delhi Daredevils</th>\n",
       "      <th>Gujarat Lions</th>\n",
       "      <th>Kings XI Punjab</th>\n",
       "      <th>Kochi Tuskers Kerala</th>\n",
       "      <th>Kolkata Knight Riders</th>\n",
       "      <th>Mumbai Indians</th>\n",
       "      <th>Pune Warriors</th>\n",
       "      <th>Rajasthan Royals</th>\n",
       "      <th>Rising Pune Supergiant</th>\n",
       "      <th>Rising Pune Supergiants</th>\n",
       "      <th>Royal Challengers Bangalore</th>\n",
       "      <th>Sunrisers Hyderabad</th>\n",
       "    </tr>\n",
       "    <tr>\n",
       "      <th>toss_decision</th>\n",
       "      <th></th>\n",
       "      <th></th>\n",
       "      <th></th>\n",
       "      <th></th>\n",
       "      <th></th>\n",
       "      <th></th>\n",
       "      <th></th>\n",
       "      <th></th>\n",
       "      <th></th>\n",
       "      <th></th>\n",
       "      <th></th>\n",
       "      <th></th>\n",
       "      <th></th>\n",
       "      <th></th>\n",
       "      <th></th>\n",
       "    </tr>\n",
       "  </thead>\n",
       "  <tbody>\n",
       "    <tr>\n",
       "      <th>bat</th>\n",
       "      <td>48</td>\n",
       "      <td>24</td>\n",
       "      <td>2</td>\n",
       "      <td>29</td>\n",
       "      <td>1</td>\n",
       "      <td>26</td>\n",
       "      <td>3</td>\n",
       "      <td>30</td>\n",
       "      <td>44</td>\n",
       "      <td>11</td>\n",
       "      <td>32</td>\n",
       "      <td>0</td>\n",
       "      <td>3</td>\n",
       "      <td>20</td>\n",
       "      <td>20</td>\n",
       "    </tr>\n",
       "    <tr>\n",
       "      <th>field</th>\n",
       "      <td>41</td>\n",
       "      <td>19</td>\n",
       "      <td>8</td>\n",
       "      <td>51</td>\n",
       "      <td>14</td>\n",
       "      <td>55</td>\n",
       "      <td>5</td>\n",
       "      <td>62</td>\n",
       "      <td>54</td>\n",
       "      <td>9</td>\n",
       "      <td>48</td>\n",
       "      <td>6</td>\n",
       "      <td>4</td>\n",
       "      <td>61</td>\n",
       "      <td>26</td>\n",
       "    </tr>\n",
       "  </tbody>\n",
       "</table>\n",
       "</div>"
      ],
      "text/plain": [
       "toss_winner    Chennai Super Kings  Deccan Chargers  Delhi Capitals  \\\n",
       "toss_decision                                                         \n",
       "bat                             48               24               2   \n",
       "field                           41               19               8   \n",
       "\n",
       "toss_winner    Delhi Daredevils  Gujarat Lions  Kings XI Punjab  \\\n",
       "toss_decision                                                     \n",
       "bat                          29              1               26   \n",
       "field                        51             14               55   \n",
       "\n",
       "toss_winner    Kochi Tuskers Kerala  Kolkata Knight Riders  Mumbai Indians  \\\n",
       "toss_decision                                                                \n",
       "bat                               3                     30              44   \n",
       "field                             5                     62              54   \n",
       "\n",
       "toss_winner    Pune Warriors  Rajasthan Royals  Rising Pune Supergiant  \\\n",
       "toss_decision                                                            \n",
       "bat                       11                32                       0   \n",
       "field                      9                48                       6   \n",
       "\n",
       "toss_winner    Rising Pune Supergiants  Royal Challengers Bangalore  \\\n",
       "toss_decision                                                         \n",
       "bat                                  3                           20   \n",
       "field                                4                           61   \n",
       "\n",
       "toss_winner    Sunrisers Hyderabad  \n",
       "toss_decision                       \n",
       "bat                             20  \n",
       "field                           26  "
      ]
     },
     "execution_count": 45,
     "metadata": {},
     "output_type": "execute_result"
    }
   ],
   "source": [
    "pd.crosstab(x1.toss_decision,x1.toss_winner)"
   ]
  },
  {
   "cell_type": "markdown",
   "id": "925de4c5",
   "metadata": {},
   "source": [
    "# Q-6 Count the total number of normal and tie matches."
   ]
  },
  {
   "cell_type": "code",
   "execution_count": 44,
   "id": "f3c34645",
   "metadata": {},
   "outputs": [
    {
     "data": {
      "text/plain": [
       "normal       743\n",
       "tie            9\n",
       "no result      4\n",
       "Name: result, dtype: int64"
      ]
     },
     "execution_count": 44,
     "metadata": {},
     "output_type": "execute_result"
    }
   ],
   "source": [
    "x1[\"result\"].value_counts()"
   ]
  },
  {
   "cell_type": "markdown",
   "id": "a2143c07",
   "metadata": {},
   "source": [
    "# Q-7 Find the team names where the match result is tie."
   ]
  },
  {
   "cell_type": "code",
   "execution_count": 43,
   "id": "784dac3b",
   "metadata": {},
   "outputs": [
    {
     "data": {
      "text/plain": [
       "33                  Mumbai Indians\n",
       "125               Rajasthan Royals\n",
       "189                Kings XI Punjab\n",
       "387            Sunrisers Hyderabad\n",
       "400    Royal Challengers Bangalore\n",
       "475               Rajasthan Royals\n",
       "535                Kings XI Punjab\n",
       "705                 Delhi Capitals\n",
       "746                 Mumbai Indians\n",
       "Name: winner, dtype: object"
      ]
     },
     "execution_count": 43,
     "metadata": {},
     "output_type": "execute_result"
    }
   ],
   "source": [
    "x1[\"winner\"][x1[\"result\"]==\"tie\"]"
   ]
  },
  {
   "cell_type": "markdown",
   "id": "dd8bc55c",
   "metadata": {},
   "source": [
    "# Q-8 Find the team name who won the match by highest runs"
   ]
  },
  {
   "cell_type": "code",
   "execution_count": 42,
   "id": "a21ebc64",
   "metadata": {},
   "outputs": [
    {
     "data": {
      "text/plain": [
       "43    Mumbai Indians\n",
       "Name: winner, dtype: object"
      ]
     },
     "execution_count": 42,
     "metadata": {},
     "output_type": "execute_result"
    }
   ],
   "source": [
    "x1[\"winner\"][x1[\"win_by_runs\"]==x1[\"win_by_runs\"].max()]"
   ]
  },
  {
   "cell_type": "markdown",
   "id": "35228c0f",
   "metadata": {},
   "source": [
    "# Q-9 Find the team name who won the match by lowest runs"
   ]
  },
  {
   "cell_type": "code",
   "execution_count": 41,
   "id": "fba0d6fc",
   "metadata": {},
   "outputs": [
    {
     "data": {
      "text/plain": [
       "58                  Mumbai Indians\n",
       "105                Kings XI Punjab\n",
       "163                Kings XI Punjab\n",
       "344               Delhi Daredevils\n",
       "350                 Mumbai Indians\n",
       "518            Chennai Super Kings\n",
       "598                  Gujarat Lions\n",
       "614    Royal Challengers Bangalore\n",
       "734    Royal Challengers Bangalore\n",
       "755                 Mumbai Indians\n",
       "Name: winner, dtype: object"
      ]
     },
     "execution_count": 41,
     "metadata": {},
     "output_type": "execute_result"
    }
   ],
   "source": [
    "x1[\"win_by_runs\"]=x1[\"win_by_runs\"].replace(0,np.nan)\n",
    "x1[\"winner\"][x1[\"win_by_runs\"]==x1[\"win_by_runs\"].min()]"
   ]
  },
  {
   "cell_type": "markdown",
   "id": "f8d50efb",
   "metadata": {},
   "source": [
    "# Q-10  Find the players who was awarded “Player of the match” more than 3 times"
   ]
  },
  {
   "cell_type": "code",
   "execution_count": 40,
   "id": "40d048c3",
   "metadata": {},
   "outputs": [
    {
     "data": {
      "text/plain": [
       "CH Gayle          21\n",
       "AB de Villiers    20\n",
       "RG Sharma         17\n",
       "MS Dhoni          17\n",
       "DA Warner         17\n",
       "                  ..\n",
       "SK Warne           4\n",
       "CA Lynn            4\n",
       "SS Iyer            4\n",
       "ML Hayden          4\n",
       "KH Pandya          4\n",
       "Name: player_of_match, Length: 65, dtype: int64"
      ]
     },
     "execution_count": 40,
     "metadata": {},
     "output_type": "execute_result"
    }
   ],
   "source": [
    "x1.player_of_match=x1.player_of_match.str.strip()\n",
    "x1.player_of_match.value_counts()\n",
    "diff=x1.player_of_match.value_counts()\n",
    "diff[diff>3]"
   ]
  },
  {
   "cell_type": "markdown",
   "id": "39ef55dc",
   "metadata": {},
   "source": [
    "# Q-11 Find the player who was awarded as player of the match maximum times."
   ]
  },
  {
   "cell_type": "code",
   "execution_count": 39,
   "id": "4829891b",
   "metadata": {},
   "outputs": [
    {
     "data": {
      "text/plain": [
       "CH Gayle    21\n",
       "Name: player_of_match, dtype: int64"
      ]
     },
     "execution_count": 39,
     "metadata": {},
     "output_type": "execute_result"
    }
   ],
   "source": [
    "x1.player_of_match.value_counts().nlargest(1)"
   ]
  },
  {
   "cell_type": "markdown",
   "id": "df4368ef",
   "metadata": {},
   "source": [
    "# Q-12 Find the Venue where the team won the match by highest runs"
   ]
  },
  {
   "cell_type": "code",
   "execution_count": 38,
   "id": "14d3738c",
   "metadata": {},
   "outputs": [
    {
     "data": {
      "text/plain": [
       "43    Feroz Shah Kotla\n",
       "Name: venue, dtype: object"
      ]
     },
     "execution_count": 38,
     "metadata": {},
     "output_type": "execute_result"
    }
   ],
   "source": [
    "x1[\"venue\"][x1[\"win_by_runs\"]==x1[\"win_by_runs\"].max()]"
   ]
  },
  {
   "cell_type": "markdown",
   "id": "d9accb74",
   "metadata": {},
   "source": [
    "# Q-13  Find the Venue where the team won the match by lowest runs."
   ]
  },
  {
   "cell_type": "code",
   "execution_count": 37,
   "id": "5aa5dcb4",
   "metadata": {},
   "outputs": [
    {
     "data": {
      "text/plain": [
       "58             Rajiv Gandhi International Stadium, Uppal\n",
       "105                                     Wankhede Stadium\n",
       "163                                New Wanderers Stadium\n",
       "344                                     Feroz Shah Kotla\n",
       "350                           Subrata Roy Sahara Stadium\n",
       "518                      MA Chidambaram Stadium, Chepauk\n",
       "598                                     Feroz Shah Kotla\n",
       "614    Punjab Cricket Association IS Bindra Stadium, ...\n",
       "734                               M. Chinnaswamy Stadium\n",
       "755                   Rajiv Gandhi Intl. Cricket Stadium\n",
       "Name: venue, dtype: object"
      ]
     },
     "execution_count": 37,
     "metadata": {},
     "output_type": "execute_result"
    }
   ],
   "source": [
    "x1[\"win_by_runs\"]=x1[\"win_by_runs\"].replace(0,np.nan)\n",
    "x1[\"venue\"][x1[\"win_by_runs\"]==x1[\"win_by_runs\"].min()]"
   ]
  },
  {
   "cell_type": "markdown",
   "id": "51277cc8",
   "metadata": {},
   "source": [
    "# Q-14 Find the Umpires who did umpiring maximum times."
   ]
  },
  {
   "cell_type": "code",
   "execution_count": 36,
   "id": "ce6d1bcf",
   "metadata": {},
   "outputs": [
    {
     "name": "stdout",
     "output_type": "stream",
     "text": [
      "for umpire1Maximu is: \n",
      "HDPK Dharmasena\n",
      "for umpire2Maximu is: \n",
      "C Shamshuddin\n",
      "for umpire3Maximu is: \n",
      "Nitin Menon\n"
     ]
    }
   ],
   "source": [
    "for a in [\"umpire1\", \"umpire2\", \"umpire3\"]:\n",
    "    print(\"for \"+a+\"Maximu is: \")\n",
    "    print(x1[a].value_counts().idxmax())"
   ]
  },
  {
   "cell_type": "markdown",
   "id": "38ddfc37",
   "metadata": {},
   "source": [
    "# Q-15 Find the Total matches played in each season"
   ]
  },
  {
   "cell_type": "code",
   "execution_count": 35,
   "id": "092643d3",
   "metadata": {},
   "outputs": [
    {
     "data": {
      "text/plain": [
       "2013    76\n",
       "2012    74\n",
       "2011    73\n",
       "2010    60\n",
       "2014    60\n",
       "2016    60\n",
       "2018    60\n",
       "2019    60\n",
       "2017    59\n",
       "2015    59\n",
       "2008    58\n",
       "2009    57\n",
       "Name: season, dtype: int64"
      ]
     },
     "execution_count": 35,
     "metadata": {},
     "output_type": "execute_result"
    }
   ],
   "source": [
    "x1[\"season\"].value_counts()"
   ]
  },
  {
   "cell_type": "markdown",
   "id": "3c06c87b",
   "metadata": {},
   "source": [
    "# Q-16 Find the Total runs in each season"
   ]
  },
  {
   "cell_type": "code",
   "execution_count": 34,
   "id": "bf746b74",
   "metadata": {},
   "outputs": [
    {
     "data": {
      "text/html": [
       "<div>\n",
       "<style scoped>\n",
       "    .dataframe tbody tr th:only-of-type {\n",
       "        vertical-align: middle;\n",
       "    }\n",
       "\n",
       "    .dataframe tbody tr th {\n",
       "        vertical-align: top;\n",
       "    }\n",
       "\n",
       "    .dataframe thead th {\n",
       "        text-align: right;\n",
       "    }\n",
       "</style>\n",
       "<table border=\"1\" class=\"dataframe\">\n",
       "  <thead>\n",
       "    <tr style=\"text-align: right;\">\n",
       "      <th></th>\n",
       "      <th>season</th>\n",
       "      <th>total_runs</th>\n",
       "    </tr>\n",
       "  </thead>\n",
       "  <tbody>\n",
       "    <tr>\n",
       "      <th>0</th>\n",
       "      <td>2008</td>\n",
       "      <td>17937</td>\n",
       "    </tr>\n",
       "    <tr>\n",
       "      <th>1</th>\n",
       "      <td>2009</td>\n",
       "      <td>16353</td>\n",
       "    </tr>\n",
       "    <tr>\n",
       "      <th>2</th>\n",
       "      <td>2010</td>\n",
       "      <td>18883</td>\n",
       "    </tr>\n",
       "    <tr>\n",
       "      <th>3</th>\n",
       "      <td>2011</td>\n",
       "      <td>21154</td>\n",
       "    </tr>\n",
       "    <tr>\n",
       "      <th>4</th>\n",
       "      <td>2012</td>\n",
       "      <td>22453</td>\n",
       "    </tr>\n",
       "    <tr>\n",
       "      <th>5</th>\n",
       "      <td>2013</td>\n",
       "      <td>22602</td>\n",
       "    </tr>\n",
       "    <tr>\n",
       "      <th>6</th>\n",
       "      <td>2014</td>\n",
       "      <td>18931</td>\n",
       "    </tr>\n",
       "    <tr>\n",
       "      <th>7</th>\n",
       "      <td>2015</td>\n",
       "      <td>18353</td>\n",
       "    </tr>\n",
       "    <tr>\n",
       "      <th>8</th>\n",
       "      <td>2016</td>\n",
       "      <td>18862</td>\n",
       "    </tr>\n",
       "    <tr>\n",
       "      <th>9</th>\n",
       "      <td>2017</td>\n",
       "      <td>18786</td>\n",
       "    </tr>\n",
       "    <tr>\n",
       "      <th>10</th>\n",
       "      <td>2018</td>\n",
       "      <td>20706</td>\n",
       "    </tr>\n",
       "    <tr>\n",
       "      <th>11</th>\n",
       "      <td>2019</td>\n",
       "      <td>20270</td>\n",
       "    </tr>\n",
       "  </tbody>\n",
       "</table>\n",
       "</div>"
      ],
      "text/plain": [
       "    season  total_runs\n",
       "0     2008       17937\n",
       "1     2009       16353\n",
       "2     2010       18883\n",
       "3     2011       21154\n",
       "4     2012       22453\n",
       "5     2013       22602\n",
       "6     2014       18931\n",
       "7     2015       18353\n",
       "8     2016       18862\n",
       "9     2017       18786\n",
       "10    2018       20706\n",
       "11    2019       20270"
      ]
     },
     "execution_count": 34,
     "metadata": {},
     "output_type": "execute_result"
    }
   ],
   "source": [
    "match_detail=x1[['id', 'season']].merge(x2, left_on='id', right_on='match_id', how='left')\n",
    "\n",
    "match_detail.groupby([\"season\"])[\"total_runs\"].sum().reset_index()"
   ]
  },
  {
   "cell_type": "markdown",
   "id": "4af824f3",
   "metadata": {},
   "source": [
    "# Q-17  No. of tosses won by each team"
   ]
  },
  {
   "cell_type": "code",
   "execution_count": 33,
   "id": "d4b9c3b7",
   "metadata": {},
   "outputs": [
    {
     "data": {
      "text/plain": [
       "Mumbai Indians                 98\n",
       "Kolkata Knight Riders          92\n",
       "Chennai Super Kings            89\n",
       "Royal Challengers Bangalore    81\n",
       "Kings XI Punjab                81\n",
       "Delhi Daredevils               80\n",
       "Rajasthan Royals               80\n",
       "Sunrisers Hyderabad            46\n",
       "Deccan Chargers                43\n",
       "Pune Warriors                  20\n",
       "Gujarat Lions                  15\n",
       "Delhi Capitals                 10\n",
       "Kochi Tuskers Kerala            8\n",
       "Rising Pune Supergiants         7\n",
       "Rising Pune Supergiant          6\n",
       "Name: toss_winner, dtype: int64"
      ]
     },
     "execution_count": 33,
     "metadata": {},
     "output_type": "execute_result"
    }
   ],
   "source": [
    "x1[\"toss_winner\"].value_counts()"
   ]
  },
  {
   "cell_type": "markdown",
   "id": "c25effa5",
   "metadata": {},
   "source": [
    "# Q-18 Visualize the Toss decision across seasons"
   ]
  },
  {
   "cell_type": "code",
   "execution_count": 24,
   "id": "8b0a69f8",
   "metadata": {},
   "outputs": [
    {
     "data": {
      "text/plain": [
       "<AxesSubplot:xlabel='season', ylabel='count'>"
      ]
     },
     "execution_count": 24,
     "metadata": {},
     "output_type": "execute_result"
    },
    {
     "data": {
      "image/png": "[encoded data removed]",
      "text/plain": [
       "<Figure size 640x480 with 1 Axes>"
      ]
     },
     "metadata": {},
     "output_type": "display_data"
    }
   ],
   "source": [
    "sns.countplot(data=x1,x=x1.season,hue=x1[\"toss_decision\"])"
   ]
  },
  {
   "cell_type": "markdown",
   "id": "0c7ec2b9",
   "metadata": {},
   "source": [
    "# Q-19 Find the Dismissal Kind and Visualize using best fit graph"
   ]
  },
  {
   "cell_type": "code",
   "execution_count": 25,
   "id": "685aeb10",
   "metadata": {},
   "outputs": [
    {
     "data": {
      "text/plain": [
       "<AxesSubplot:xlabel='count', ylabel='dismissal_kind'>"
      ]
     },
     "execution_count": 25,
     "metadata": {},
     "output_type": "execute_result"
    },
    {
     "data": {
      "image/png": "[encoded data removed]",
      "text/plain": [
       "<Figure size 640x480 with 1 Axes>"
      ]
     },
     "metadata": {},
     "output_type": "display_data"
    }
   ],
   "source": [
    "x2[\"dismissal_kind\"].unique()\n",
    "sns.countplot(data=x2,y=x2.dismissal_kind)"
   ]
  },
  {
   "cell_type": "markdown",
   "id": "0bbdb419",
   "metadata": {},
   "source": [
    "# Q-20 Find the Top 10 run scorers in IPL and Visualize using best fit graph"
   ]
  },
  {
   "cell_type": "code",
   "execution_count": 26,
   "id": "7cfac703",
   "metadata": {},
   "outputs": [
    {
     "data": {
      "text/html": [
       "<div>\n",
       "<style scoped>\n",
       "    .dataframe tbody tr th:only-of-type {\n",
       "        vertical-align: middle;\n",
       "    }\n",
       "\n",
       "    .dataframe tbody tr th {\n",
       "        vertical-align: top;\n",
       "    }\n",
       "\n",
       "    .dataframe thead th {\n",
       "        text-align: right;\n",
       "    }\n",
       "</style>\n",
       "<table border=\"1\" class=\"dataframe\">\n",
       "  <thead>\n",
       "    <tr style=\"text-align: right;\">\n",
       "      <th></th>\n",
       "      <th>value</th>\n",
       "    </tr>\n",
       "    <tr>\n",
       "      <th>batsman</th>\n",
       "      <th></th>\n",
       "    </tr>\n",
       "  </thead>\n",
       "  <tbody>\n",
       "    <tr>\n",
       "      <th>V Kohli</th>\n",
       "      <td>5434</td>\n",
       "    </tr>\n",
       "    <tr>\n",
       "      <th>SK Raina</th>\n",
       "      <td>5415</td>\n",
       "    </tr>\n",
       "    <tr>\n",
       "      <th>RG Sharma</th>\n",
       "      <td>4914</td>\n",
       "    </tr>\n",
       "    <tr>\n",
       "      <th>DA Warner</th>\n",
       "      <td>4741</td>\n",
       "    </tr>\n",
       "    <tr>\n",
       "      <th>S Dhawan</th>\n",
       "      <td>4632</td>\n",
       "    </tr>\n",
       "    <tr>\n",
       "      <th>...</th>\n",
       "      <td>...</td>\n",
       "    </tr>\n",
       "    <tr>\n",
       "      <th>IC Pandey</th>\n",
       "      <td>0</td>\n",
       "    </tr>\n",
       "    <tr>\n",
       "      <th>J Denly</th>\n",
       "      <td>0</td>\n",
       "    </tr>\n",
       "    <tr>\n",
       "      <th>P Raj</th>\n",
       "      <td>0</td>\n",
       "    </tr>\n",
       "    <tr>\n",
       "      <th>Sunny Gupta</th>\n",
       "      <td>0</td>\n",
       "    </tr>\n",
       "    <tr>\n",
       "      <th>L Ablish</th>\n",
       "      <td>0</td>\n",
       "    </tr>\n",
       "  </tbody>\n",
       "</table>\n",
       "<p>516 rows × 1 columns</p>\n",
       "</div>"
      ],
      "text/plain": [
       "             value\n",
       "batsman           \n",
       "V Kohli       5434\n",
       "SK Raina      5415\n",
       "RG Sharma     4914\n",
       "DA Warner     4741\n",
       "S Dhawan      4632\n",
       "...            ...\n",
       "IC Pandey        0\n",
       "J Denly          0\n",
       "P Raj            0\n",
       "Sunny Gupta      0\n",
       "L Ablish         0\n",
       "\n",
       "[516 rows x 1 columns]"
      ]
     },
     "execution_count": 26,
     "metadata": {},
     "output_type": "execute_result"
    }
   ],
   "source": [
    "runs=pd.melt(x2,id_vars=\"batsman\",value_vars=\"batsman_runs\")\n",
    "runs\n",
    "totruns=runs.groupby(\"batsman\")[\"value\"].sum()\n",
    "pd.DataFrame(totruns.sort_values(ascending=False))"
   ]
  },
  {
   "cell_type": "markdown",
   "id": "778f2ac6",
   "metadata": {},
   "source": [
    "# Q-21 Visualize the Highest MOM award winners"
   ]
  },
  {
   "cell_type": "code",
   "execution_count": 27,
   "id": "6310331b",
   "metadata": {},
   "outputs": [
    {
     "data": {
      "text/plain": [
       "<AxesSubplot:xlabel='player_of_match', ylabel='count'>"
      ]
     },
     "execution_count": 27,
     "metadata": {},
     "output_type": "execute_result"
    },
    {
     "data": {
      "image/png": "[encoded data removed]",
      "text/plain": [
       "<Figure size 640x480 with 1 Axes>"
      ]
     },
     "metadata": {},
     "output_type": "display_data"
    }
   ],
   "source": [
    "sns.countplot(data=x1,x=x1.player_of_match)"
   ]
  },
  {
   "cell_type": "markdown",
   "id": "fa924172",
   "metadata": {},
   "source": [
    "# Q-22 Find Total Number of Played Matches by each team"
   ]
  },
  {
   "cell_type": "code",
   "execution_count": 28,
   "id": "8a3ac871",
   "metadata": {},
   "outputs": [
    {
     "data": {
      "text/html": [
       "<div>\n",
       "<style scoped>\n",
       "    .dataframe tbody tr th:only-of-type {\n",
       "        vertical-align: middle;\n",
       "    }\n",
       "\n",
       "    .dataframe tbody tr th {\n",
       "        vertical-align: top;\n",
       "    }\n",
       "\n",
       "    .dataframe thead th {\n",
       "        text-align: right;\n",
       "    }\n",
       "</style>\n",
       "<table border=\"1\" class=\"dataframe\">\n",
       "  <thead>\n",
       "    <tr style=\"text-align: right;\">\n",
       "      <th></th>\n",
       "      <th>name</th>\n",
       "      <th>Played</th>\n",
       "      <th>won</th>\n",
       "    </tr>\n",
       "  </thead>\n",
       "  <tbody>\n",
       "    <tr>\n",
       "      <th>0</th>\n",
       "      <td>Chennai Super Kings</td>\n",
       "      <td>164</td>\n",
       "      <td>100</td>\n",
       "    </tr>\n",
       "    <tr>\n",
       "      <th>1</th>\n",
       "      <td>Deccan Chargers</td>\n",
       "      <td>75</td>\n",
       "      <td>29</td>\n",
       "    </tr>\n",
       "    <tr>\n",
       "      <th>2</th>\n",
       "      <td>Delhi Capitals</td>\n",
       "      <td>16</td>\n",
       "      <td>10</td>\n",
       "    </tr>\n",
       "    <tr>\n",
       "      <th>3</th>\n",
       "      <td>Delhi Daredevils</td>\n",
       "      <td>161</td>\n",
       "      <td>67</td>\n",
       "    </tr>\n",
       "    <tr>\n",
       "      <th>4</th>\n",
       "      <td>Gujarat Lions</td>\n",
       "      <td>30</td>\n",
       "      <td>13</td>\n",
       "    </tr>\n",
       "    <tr>\n",
       "      <th>5</th>\n",
       "      <td>Kings XI Punjab</td>\n",
       "      <td>176</td>\n",
       "      <td>82</td>\n",
       "    </tr>\n",
       "    <tr>\n",
       "      <th>6</th>\n",
       "      <td>Kochi Tuskers Kerala</td>\n",
       "      <td>14</td>\n",
       "      <td>6</td>\n",
       "    </tr>\n",
       "    <tr>\n",
       "      <th>7</th>\n",
       "      <td>Kolkata Knight Riders</td>\n",
       "      <td>178</td>\n",
       "      <td>92</td>\n",
       "    </tr>\n",
       "    <tr>\n",
       "      <th>8</th>\n",
       "      <td>Mumbai Indians</td>\n",
       "      <td>187</td>\n",
       "      <td>109</td>\n",
       "    </tr>\n",
       "    <tr>\n",
       "      <th>9</th>\n",
       "      <td>Pune Warriors</td>\n",
       "      <td>46</td>\n",
       "      <td>12</td>\n",
       "    </tr>\n",
       "    <tr>\n",
       "      <th>10</th>\n",
       "      <td>Rajasthan Royals</td>\n",
       "      <td>147</td>\n",
       "      <td>75</td>\n",
       "    </tr>\n",
       "    <tr>\n",
       "      <th>11</th>\n",
       "      <td>Rising Pune Supergiant</td>\n",
       "      <td>16</td>\n",
       "      <td>10</td>\n",
       "    </tr>\n",
       "    <tr>\n",
       "      <th>12</th>\n",
       "      <td>Rising Pune Supergiants</td>\n",
       "      <td>14</td>\n",
       "      <td>5</td>\n",
       "    </tr>\n",
       "    <tr>\n",
       "      <th>13</th>\n",
       "      <td>Royal Challengers Bangalore</td>\n",
       "      <td>180</td>\n",
       "      <td>84</td>\n",
       "    </tr>\n",
       "    <tr>\n",
       "      <th>14</th>\n",
       "      <td>Sunrisers Hyderabad</td>\n",
       "      <td>108</td>\n",
       "      <td>58</td>\n",
       "    </tr>\n",
       "  </tbody>\n",
       "</table>\n",
       "</div>"
      ],
      "text/plain": [
       "                           name  Played  won\n",
       "0           Chennai Super Kings     164  100\n",
       "1               Deccan Chargers      75   29\n",
       "2                Delhi Capitals      16   10\n",
       "3              Delhi Daredevils     161   67\n",
       "4                 Gujarat Lions      30   13\n",
       "5               Kings XI Punjab     176   82\n",
       "6          Kochi Tuskers Kerala      14    6\n",
       "7         Kolkata Knight Riders     178   92\n",
       "8                Mumbai Indians     187  109\n",
       "9                 Pune Warriors      46   12\n",
       "10             Rajasthan Royals     147   75\n",
       "11       Rising Pune Supergiant      16   10\n",
       "12      Rising Pune Supergiants      14    5\n",
       "13  Royal Challengers Bangalore     180   84\n",
       "14          Sunrisers Hyderabad     108   58"
      ]
     },
     "execution_count": 28,
     "metadata": {},
     "output_type": "execute_result"
    }
   ],
   "source": [
    "import pandas as p\n",
    "total= x1['team1'].value_counts() +x1['team2'].value_counts()\n",
    "p1=p.DataFrame(total, columns=['Played'])\n",
    "p1['won']=x1['winner'].value_counts()\n",
    "p1.reset_index(inplace = True)\n",
    "p1.rename(columns = {\"index\":\"name\"},inplace=True)\n",
    "p1"
   ]
  },
  {
   "cell_type": "markdown",
   "id": "948ee496",
   "metadata": {},
   "source": [
    "# Q-23 Compare Total Played Matches vs Winning Matches vs Win Rate"
   ]
  },
  {
   "cell_type": "code",
   "execution_count": 29,
   "id": "a5ce43e4",
   "metadata": {},
   "outputs": [
    {
     "data": {
      "text/html": [
       "<div>\n",
       "<style scoped>\n",
       "    .dataframe tbody tr th:only-of-type {\n",
       "        vertical-align: middle;\n",
       "    }\n",
       "\n",
       "    .dataframe tbody tr th {\n",
       "        vertical-align: top;\n",
       "    }\n",
       "\n",
       "    .dataframe thead th {\n",
       "        text-align: right;\n",
       "    }\n",
       "</style>\n",
       "<table border=\"1\" class=\"dataframe\">\n",
       "  <thead>\n",
       "    <tr style=\"text-align: right;\">\n",
       "      <th></th>\n",
       "      <th>name</th>\n",
       "      <th>Played</th>\n",
       "      <th>won</th>\n",
       "      <th>Winrate</th>\n",
       "    </tr>\n",
       "  </thead>\n",
       "  <tbody>\n",
       "    <tr>\n",
       "      <th>0</th>\n",
       "      <td>Chennai Super Kings</td>\n",
       "      <td>164</td>\n",
       "      <td>100</td>\n",
       "      <td>60.975610</td>\n",
       "    </tr>\n",
       "    <tr>\n",
       "      <th>1</th>\n",
       "      <td>Deccan Chargers</td>\n",
       "      <td>75</td>\n",
       "      <td>29</td>\n",
       "      <td>38.666667</td>\n",
       "    </tr>\n",
       "    <tr>\n",
       "      <th>2</th>\n",
       "      <td>Delhi Capitals</td>\n",
       "      <td>16</td>\n",
       "      <td>10</td>\n",
       "      <td>62.500000</td>\n",
       "    </tr>\n",
       "    <tr>\n",
       "      <th>3</th>\n",
       "      <td>Delhi Daredevils</td>\n",
       "      <td>161</td>\n",
       "      <td>67</td>\n",
       "      <td>41.614907</td>\n",
       "    </tr>\n",
       "    <tr>\n",
       "      <th>4</th>\n",
       "      <td>Gujarat Lions</td>\n",
       "      <td>30</td>\n",
       "      <td>13</td>\n",
       "      <td>43.333333</td>\n",
       "    </tr>\n",
       "    <tr>\n",
       "      <th>5</th>\n",
       "      <td>Kings XI Punjab</td>\n",
       "      <td>176</td>\n",
       "      <td>82</td>\n",
       "      <td>46.590909</td>\n",
       "    </tr>\n",
       "    <tr>\n",
       "      <th>6</th>\n",
       "      <td>Kochi Tuskers Kerala</td>\n",
       "      <td>14</td>\n",
       "      <td>6</td>\n",
       "      <td>42.857143</td>\n",
       "    </tr>\n",
       "    <tr>\n",
       "      <th>7</th>\n",
       "      <td>Kolkata Knight Riders</td>\n",
       "      <td>178</td>\n",
       "      <td>92</td>\n",
       "      <td>51.685393</td>\n",
       "    </tr>\n",
       "    <tr>\n",
       "      <th>8</th>\n",
       "      <td>Mumbai Indians</td>\n",
       "      <td>187</td>\n",
       "      <td>109</td>\n",
       "      <td>58.288770</td>\n",
       "    </tr>\n",
       "    <tr>\n",
       "      <th>9</th>\n",
       "      <td>Pune Warriors</td>\n",
       "      <td>46</td>\n",
       "      <td>12</td>\n",
       "      <td>26.086957</td>\n",
       "    </tr>\n",
       "    <tr>\n",
       "      <th>10</th>\n",
       "      <td>Rajasthan Royals</td>\n",
       "      <td>147</td>\n",
       "      <td>75</td>\n",
       "      <td>51.020408</td>\n",
       "    </tr>\n",
       "    <tr>\n",
       "      <th>11</th>\n",
       "      <td>Rising Pune Supergiant</td>\n",
       "      <td>16</td>\n",
       "      <td>10</td>\n",
       "      <td>62.500000</td>\n",
       "    </tr>\n",
       "    <tr>\n",
       "      <th>12</th>\n",
       "      <td>Rising Pune Supergiants</td>\n",
       "      <td>14</td>\n",
       "      <td>5</td>\n",
       "      <td>35.714286</td>\n",
       "    </tr>\n",
       "    <tr>\n",
       "      <th>13</th>\n",
       "      <td>Royal Challengers Bangalore</td>\n",
       "      <td>180</td>\n",
       "      <td>84</td>\n",
       "      <td>46.666667</td>\n",
       "    </tr>\n",
       "    <tr>\n",
       "      <th>14</th>\n",
       "      <td>Sunrisers Hyderabad</td>\n",
       "      <td>108</td>\n",
       "      <td>58</td>\n",
       "      <td>53.703704</td>\n",
       "    </tr>\n",
       "  </tbody>\n",
       "</table>\n",
       "</div>"
      ],
      "text/plain": [
       "                           name  Played  won    Winrate\n",
       "0           Chennai Super Kings     164  100  60.975610\n",
       "1               Deccan Chargers      75   29  38.666667\n",
       "2                Delhi Capitals      16   10  62.500000\n",
       "3              Delhi Daredevils     161   67  41.614907\n",
       "4                 Gujarat Lions      30   13  43.333333\n",
       "5               Kings XI Punjab     176   82  46.590909\n",
       "6          Kochi Tuskers Kerala      14    6  42.857143\n",
       "7         Kolkata Knight Riders     178   92  51.685393\n",
       "8                Mumbai Indians     187  109  58.288770\n",
       "9                 Pune Warriors      46   12  26.086957\n",
       "10             Rajasthan Royals     147   75  51.020408\n",
       "11       Rising Pune Supergiant      16   10  62.500000\n",
       "12      Rising Pune Supergiants      14    5  35.714286\n",
       "13  Royal Challengers Bangalore     180   84  46.666667\n",
       "14          Sunrisers Hyderabad     108   58  53.703704"
      ]
     },
     "execution_count": 29,
     "metadata": {},
     "output_type": "execute_result"
    }
   ],
   "source": [
    "p1[\"Winrate\"]= (p1[\"won\"]/p1[\"Played\"])*100\n",
    "p1"
   ]
  },
  {
   "cell_type": "markdown",
   "id": "8dc7d8bc",
   "metadata": {},
   "source": [
    "# Q-24 Find the Distribution of Won the Matches"
   ]
  },
  {
   "cell_type": "code",
   "execution_count": 30,
   "id": "f7cd9c7b",
   "metadata": {},
   "outputs": [
    {
     "data": {
      "text/plain": [
       "<AxesSubplot:xlabel='Winrate', ylabel='name'>"
      ]
     },
     "execution_count": 30,
     "metadata": {},
     "output_type": "execute_result"
    },
    {
     "data": {
      "image/png": "[encoded data removed]",
      "text/plain": [
       "<Figure size 640x480 with 1 Axes>"
      ]
     },
     "metadata": {},
     "output_type": "display_data"
    }
   ],
   "source": [
    "sns.barplot(data = p1, x=p1[\"Winrate\"],y=p1[\"name\"])"
   ]
  },
  {
   "cell_type": "markdown",
   "id": "f345cbda",
   "metadata": {},
   "source": [
    "# Q-25 Ratio between Total Matches and Win Matches"
   ]
  },
  {
   "cell_type": "code",
   "execution_count": 31,
   "id": "16c0fa96",
   "metadata": {},
   "outputs": [
    {
     "data": {
      "text/html": [
       "<div>\n",
       "<style scoped>\n",
       "    .dataframe tbody tr th:only-of-type {\n",
       "        vertical-align: middle;\n",
       "    }\n",
       "\n",
       "    .dataframe tbody tr th {\n",
       "        vertical-align: top;\n",
       "    }\n",
       "\n",
       "    .dataframe thead th {\n",
       "        text-align: right;\n",
       "    }\n",
       "</style>\n",
       "<table border=\"1\" class=\"dataframe\">\n",
       "  <thead>\n",
       "    <tr style=\"text-align: right;\">\n",
       "      <th></th>\n",
       "      <th>name</th>\n",
       "      <th>Played</th>\n",
       "      <th>won</th>\n",
       "      <th>Winrate</th>\n",
       "      <th>ratio</th>\n",
       "    </tr>\n",
       "  </thead>\n",
       "  <tbody>\n",
       "    <tr>\n",
       "      <th>0</th>\n",
       "      <td>Chennai Super Kings</td>\n",
       "      <td>164</td>\n",
       "      <td>100</td>\n",
       "      <td>60.975610</td>\n",
       "      <td>0.609756</td>\n",
       "    </tr>\n",
       "    <tr>\n",
       "      <th>1</th>\n",
       "      <td>Deccan Chargers</td>\n",
       "      <td>75</td>\n",
       "      <td>29</td>\n",
       "      <td>38.666667</td>\n",
       "      <td>0.386667</td>\n",
       "    </tr>\n",
       "    <tr>\n",
       "      <th>2</th>\n",
       "      <td>Delhi Capitals</td>\n",
       "      <td>16</td>\n",
       "      <td>10</td>\n",
       "      <td>62.500000</td>\n",
       "      <td>0.625000</td>\n",
       "    </tr>\n",
       "    <tr>\n",
       "      <th>3</th>\n",
       "      <td>Delhi Daredevils</td>\n",
       "      <td>161</td>\n",
       "      <td>67</td>\n",
       "      <td>41.614907</td>\n",
       "      <td>0.416149</td>\n",
       "    </tr>\n",
       "    <tr>\n",
       "      <th>4</th>\n",
       "      <td>Gujarat Lions</td>\n",
       "      <td>30</td>\n",
       "      <td>13</td>\n",
       "      <td>43.333333</td>\n",
       "      <td>0.433333</td>\n",
       "    </tr>\n",
       "    <tr>\n",
       "      <th>5</th>\n",
       "      <td>Kings XI Punjab</td>\n",
       "      <td>176</td>\n",
       "      <td>82</td>\n",
       "      <td>46.590909</td>\n",
       "      <td>0.465909</td>\n",
       "    </tr>\n",
       "    <tr>\n",
       "      <th>6</th>\n",
       "      <td>Kochi Tuskers Kerala</td>\n",
       "      <td>14</td>\n",
       "      <td>6</td>\n",
       "      <td>42.857143</td>\n",
       "      <td>0.428571</td>\n",
       "    </tr>\n",
       "    <tr>\n",
       "      <th>7</th>\n",
       "      <td>Kolkata Knight Riders</td>\n",
       "      <td>178</td>\n",
       "      <td>92</td>\n",
       "      <td>51.685393</td>\n",
       "      <td>0.516854</td>\n",
       "    </tr>\n",
       "    <tr>\n",
       "      <th>8</th>\n",
       "      <td>Mumbai Indians</td>\n",
       "      <td>187</td>\n",
       "      <td>109</td>\n",
       "      <td>58.288770</td>\n",
       "      <td>0.582888</td>\n",
       "    </tr>\n",
       "    <tr>\n",
       "      <th>9</th>\n",
       "      <td>Pune Warriors</td>\n",
       "      <td>46</td>\n",
       "      <td>12</td>\n",
       "      <td>26.086957</td>\n",
       "      <td>0.260870</td>\n",
       "    </tr>\n",
       "    <tr>\n",
       "      <th>10</th>\n",
       "      <td>Rajasthan Royals</td>\n",
       "      <td>147</td>\n",
       "      <td>75</td>\n",
       "      <td>51.020408</td>\n",
       "      <td>0.510204</td>\n",
       "    </tr>\n",
       "    <tr>\n",
       "      <th>11</th>\n",
       "      <td>Rising Pune Supergiant</td>\n",
       "      <td>16</td>\n",
       "      <td>10</td>\n",
       "      <td>62.500000</td>\n",
       "      <td>0.625000</td>\n",
       "    </tr>\n",
       "    <tr>\n",
       "      <th>12</th>\n",
       "      <td>Rising Pune Supergiants</td>\n",
       "      <td>14</td>\n",
       "      <td>5</td>\n",
       "      <td>35.714286</td>\n",
       "      <td>0.357143</td>\n",
       "    </tr>\n",
       "    <tr>\n",
       "      <th>13</th>\n",
       "      <td>Royal Challengers Bangalore</td>\n",
       "      <td>180</td>\n",
       "      <td>84</td>\n",
       "      <td>46.666667</td>\n",
       "      <td>0.466667</td>\n",
       "    </tr>\n",
       "    <tr>\n",
       "      <th>14</th>\n",
       "      <td>Sunrisers Hyderabad</td>\n",
       "      <td>108</td>\n",
       "      <td>58</td>\n",
       "      <td>53.703704</td>\n",
       "      <td>0.537037</td>\n",
       "    </tr>\n",
       "  </tbody>\n",
       "</table>\n",
       "</div>"
      ],
      "text/plain": [
       "                           name  Played  won    Winrate     ratio\n",
       "0           Chennai Super Kings     164  100  60.975610  0.609756\n",
       "1               Deccan Chargers      75   29  38.666667  0.386667\n",
       "2                Delhi Capitals      16   10  62.500000  0.625000\n",
       "3              Delhi Daredevils     161   67  41.614907  0.416149\n",
       "4                 Gujarat Lions      30   13  43.333333  0.433333\n",
       "5               Kings XI Punjab     176   82  46.590909  0.465909\n",
       "6          Kochi Tuskers Kerala      14    6  42.857143  0.428571\n",
       "7         Kolkata Knight Riders     178   92  51.685393  0.516854\n",
       "8                Mumbai Indians     187  109  58.288770  0.582888\n",
       "9                 Pune Warriors      46   12  26.086957  0.260870\n",
       "10             Rajasthan Royals     147   75  51.020408  0.510204\n",
       "11       Rising Pune Supergiant      16   10  62.500000  0.625000\n",
       "12      Rising Pune Supergiants      14    5  35.714286  0.357143\n",
       "13  Royal Challengers Bangalore     180   84  46.666667  0.466667\n",
       "14          Sunrisers Hyderabad     108   58  53.703704  0.537037"
      ]
     },
     "execution_count": 31,
     "metadata": {},
     "output_type": "execute_result"
    }
   ],
   "source": [
    "p1[\"ratio\"]= p1[\"Winrate\"]/100\n",
    "p1"
   ]
  },
  {
   "cell_type": "markdown",
   "id": "46e72c68",
   "metadata": {},
   "source": [
    "# Q-26 What is the choice of each team after winning the toss?"
   ]
  },
  {
   "cell_type": "code",
   "execution_count": 32,
   "id": "9667a061",
   "metadata": {},
   "outputs": [
    {
     "data": {
      "text/html": [
       "<div>\n",
       "<style scoped>\n",
       "    .dataframe tbody tr th:only-of-type {\n",
       "        vertical-align: middle;\n",
       "    }\n",
       "\n",
       "    .dataframe tbody tr th {\n",
       "        vertical-align: top;\n",
       "    }\n",
       "\n",
       "    .dataframe thead th {\n",
       "        text-align: right;\n",
       "    }\n",
       "</style>\n",
       "<table border=\"1\" class=\"dataframe\">\n",
       "  <thead>\n",
       "    <tr style=\"text-align: right;\">\n",
       "      <th>toss_decision</th>\n",
       "      <th>bat</th>\n",
       "      <th>field</th>\n",
       "    </tr>\n",
       "    <tr>\n",
       "      <th>toss_winner</th>\n",
       "      <th></th>\n",
       "      <th></th>\n",
       "    </tr>\n",
       "  </thead>\n",
       "  <tbody>\n",
       "    <tr>\n",
       "      <th>Chennai Super Kings</th>\n",
       "      <td>48</td>\n",
       "      <td>41</td>\n",
       "    </tr>\n",
       "    <tr>\n",
       "      <th>Deccan Chargers</th>\n",
       "      <td>24</td>\n",
       "      <td>19</td>\n",
       "    </tr>\n",
       "    <tr>\n",
       "      <th>Delhi Capitals</th>\n",
       "      <td>2</td>\n",
       "      <td>8</td>\n",
       "    </tr>\n",
       "    <tr>\n",
       "      <th>Delhi Daredevils</th>\n",
       "      <td>29</td>\n",
       "      <td>51</td>\n",
       "    </tr>\n",
       "    <tr>\n",
       "      <th>Gujarat Lions</th>\n",
       "      <td>1</td>\n",
       "      <td>14</td>\n",
       "    </tr>\n",
       "    <tr>\n",
       "      <th>Kings XI Punjab</th>\n",
       "      <td>26</td>\n",
       "      <td>55</td>\n",
       "    </tr>\n",
       "    <tr>\n",
       "      <th>Kochi Tuskers Kerala</th>\n",
       "      <td>3</td>\n",
       "      <td>5</td>\n",
       "    </tr>\n",
       "    <tr>\n",
       "      <th>Kolkata Knight Riders</th>\n",
       "      <td>30</td>\n",
       "      <td>62</td>\n",
       "    </tr>\n",
       "    <tr>\n",
       "      <th>Mumbai Indians</th>\n",
       "      <td>44</td>\n",
       "      <td>54</td>\n",
       "    </tr>\n",
       "    <tr>\n",
       "      <th>Pune Warriors</th>\n",
       "      <td>11</td>\n",
       "      <td>9</td>\n",
       "    </tr>\n",
       "    <tr>\n",
       "      <th>Rajasthan Royals</th>\n",
       "      <td>32</td>\n",
       "      <td>48</td>\n",
       "    </tr>\n",
       "    <tr>\n",
       "      <th>Rising Pune Supergiant</th>\n",
       "      <td>0</td>\n",
       "      <td>6</td>\n",
       "    </tr>\n",
       "    <tr>\n",
       "      <th>Rising Pune Supergiants</th>\n",
       "      <td>3</td>\n",
       "      <td>4</td>\n",
       "    </tr>\n",
       "    <tr>\n",
       "      <th>Royal Challengers Bangalore</th>\n",
       "      <td>20</td>\n",
       "      <td>61</td>\n",
       "    </tr>\n",
       "    <tr>\n",
       "      <th>Sunrisers Hyderabad</th>\n",
       "      <td>20</td>\n",
       "      <td>26</td>\n",
       "    </tr>\n",
       "  </tbody>\n",
       "</table>\n",
       "</div>"
      ],
      "text/plain": [
       "toss_decision                bat  field\n",
       "toss_winner                            \n",
       "Chennai Super Kings           48     41\n",
       "Deccan Chargers               24     19\n",
       "Delhi Capitals                 2      8\n",
       "Delhi Daredevils              29     51\n",
       "Gujarat Lions                  1     14\n",
       "Kings XI Punjab               26     55\n",
       "Kochi Tuskers Kerala           3      5\n",
       "Kolkata Knight Riders         30     62\n",
       "Mumbai Indians                44     54\n",
       "Pune Warriors                 11      9\n",
       "Rajasthan Royals              32     48\n",
       "Rising Pune Supergiant         0      6\n",
       "Rising Pune Supergiants        3      4\n",
       "Royal Challengers Bangalore   20     61\n",
       "Sunrisers Hyderabad           20     26"
      ]
     },
     "execution_count": 32,
     "metadata": {},
     "output_type": "execute_result"
    }
   ],
   "source": [
    "p.crosstab(x1.toss_winner,x1.toss_decision)"
   ]
  }
 ],
 "metadata": {
  "kernelspec": {
   "display_name": "Python 3 (ipykernel)",
   "language": "python",
   "name": "python3"
  },
  "language_info": {
   "codemirror_mode": {
    "name": "ipython",
    "version": 3
   },
   "file_extension": ".py",
   "mimetype": "text/x-python",
   "name": "python",
   "nbconvert_exporter": "python",
   "pygments_lexer": "ipython3",
   "version": "3.9.13"
  }
 },
 "nbformat": 4,
 "nbformat_minor": 5
}
